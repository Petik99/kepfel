{
  "nbformat": 4,
  "nbformat_minor": 0,
  "metadata": {
    "colab": {
      "name": "Labor6_KF/IKM/GL_empty.ipynb",
      "provenance": [],
      "collapsed_sections": [],
      "include_colab_link": true
    },
    "kernelspec": {
      "name": "python3",
      "display_name": "Python 3"
    },
    "accelerator": "GPU"
  },
  "cells": [
    {
      "cell_type": "markdown",
      "metadata": {
        "id": "view-in-github",
        "colab_type": "text"
      },
      "source": [
        "<a href=\"https://colab.research.google.com/github/Petik99/kepfel/blob/main/Labor6_KF_IKM_GL_empty.ipynb\" target=\"_parent\"><img src=\"https://colab.research.google.com/assets/colab-badge.svg\" alt=\"Open In Colab\"/></a>"
      ]
    },
    {
      "cell_type": "markdown",
      "metadata": {
        "id": "etxxqNjBvbYl"
      },
      "source": [
        "# Neurális hálók\n",
        "\n",
        "A mostani gyakorlat/labor témája egyszerű neurális hálók tanítása lesz a PyTorch függvénykönyvtár segítségével.\n",
        "\n",
        "## GPU és CUDA ellenőrzése\n",
        "\n",
        "A !nvcc --version parancs segítségével ellenőrizhető a CUDA verziója"
      ]
    },
    {
      "cell_type": "code",
      "metadata": {
        "id": "76--MCcVvY6b"
      },
      "source": [],
      "execution_count": null,
      "outputs": []
    },
    {
      "cell_type": "markdown",
      "metadata": {
        "id": "668tQrDqAoyU"
      },
      "source": [
        "## Fontos könyvtárak installálása\n",
        "\n",
        "Torch, torchvision"
      ]
    },
    {
      "cell_type": "code",
      "metadata": {
        "id": "5pQucnmFAxOK"
      },
      "source": [],
      "execution_count": null,
      "outputs": []
    },
    {
      "cell_type": "markdown",
      "metadata": {
        "id": "obfmfJQvA5h4"
      },
      "source": [
        "## PyTorch és CUDA ellenőrzése"
      ]
    },
    {
      "cell_type": "code",
      "metadata": {
        "id": "FKndwOLlA9yu"
      },
      "source": [],
      "execution_count": null,
      "outputs": []
    },
    {
      "cell_type": "markdown",
      "metadata": {
        "id": "U-jk8PrDFhDL"
      },
      "source": [
        "## Segédfüggvény, hogy legyen progress bar"
      ]
    },
    {
      "cell_type": "code",
      "metadata": {
        "id": "YyloyglTFhRu"
      },
      "source": [
        "from IPython.display import HTML, display\n",
        "\n",
        "def progress(value, max=100):\n",
        "    return HTML(\"\"\"\n",
        "        <progress\n",
        "            value='{value}'\n",
        "            max='{max}',\n",
        "            style='width: 100%'\n",
        "        >\n",
        "            {value}\n",
        "        </progress>\n",
        "    \"\"\".format(value=value, max=max))"
      ],
      "execution_count": null,
      "outputs": []
    },
    {
      "cell_type": "markdown",
      "metadata": {
        "id": "m1-kZ27PBWBu"
      },
      "source": [
        "## Számítási gráf numpy segítségével\n",
        "\n"
      ]
    },
    {
      "cell_type": "code",
      "metadata": {
        "id": "nAtQ25k2Bdpq"
      },
      "source": [
        "import numpy as np"
      ],
      "execution_count": null,
      "outputs": []
    },
    {
      "cell_type": "markdown",
      "metadata": {
        "id": "tyeHyMEmCkdT"
      },
      "source": [
        "## Számítási gráf PyTorch segítségével"
      ]
    },
    {
      "cell_type": "code",
      "metadata": {
        "id": "aOVSPMjrCnrS"
      },
      "source": [
        "import torch"
      ],
      "execution_count": null,
      "outputs": []
    },
    {
      "cell_type": "markdown",
      "metadata": {
        "id": "icBWI28vEMnG"
      },
      "source": [
        "## Lineáris modell definiálása"
      ]
    },
    {
      "cell_type": "code",
      "metadata": {
        "id": "ezLFvS5-EaG7"
      },
      "source": [
        "from torch import nn"
      ],
      "execution_count": null,
      "outputs": []
    },
    {
      "cell_type": "markdown",
      "metadata": {
        "id": "W_hjFpBRKhr0"
      },
      "source": [
        "## Lineáris modell tanítása"
      ]
    },
    {
      "cell_type": "code",
      "metadata": {
        "id": "uH2JbTDcKkvd"
      },
      "source": [
        "%matplotlib inline\n",
        "import matplotlib.pyplot as plt"
      ],
      "execution_count": null,
      "outputs": []
    },
    {
      "cell_type": "markdown",
      "metadata": {
        "id": "PPFDRxTCHucl"
      },
      "source": [
        "## Beépített függvények használata"
      ]
    },
    {
      "cell_type": "code",
      "metadata": {
        "id": "EqRJR4xLHtn_"
      },
      "source": [],
      "execution_count": null,
      "outputs": []
    },
    {
      "cell_type": "markdown",
      "metadata": {
        "id": "Td3nntqTQ_kK"
      },
      "source": [
        "## Tanítás beépített függvényekkel"
      ]
    },
    {
      "cell_type": "code",
      "metadata": {
        "id": "xOpVRTbbREb9"
      },
      "source": [
        "from torch.utils.data import TensorDataset, DataLoader\n",
        "import torch.optim as optim"
      ],
      "execution_count": null,
      "outputs": []
    },
    {
      "cell_type": "markdown",
      "metadata": {
        "id": "SCqchuQyWHMl"
      },
      "source": [
        "## Tanítás CUDA segítségével"
      ]
    },
    {
      "cell_type": "code",
      "metadata": {
        "id": "T5imI0lgWNtp"
      },
      "source": [],
      "execution_count": null,
      "outputs": []
    },
    {
      "cell_type": "markdown",
      "metadata": {
        "id": "0M2I4pr6ewTB"
      },
      "source": [
        "## Validáció"
      ]
    },
    {
      "cell_type": "code",
      "metadata": {
        "id": "iZOE9fKnexe6"
      },
      "source": [],
      "execution_count": null,
      "outputs": []
    },
    {
      "cell_type": "markdown",
      "metadata": {
        "id": "RVlB0bPfZ_O1"
      },
      "source": [
        "## Önálló feladat: Értelmes adat tanítása\n",
        "\n",
        "Próbáld meg az y = x^3 függvényt betanítani a hálónak! A hálónak legyen 3 be és 3 kimenete, ezek között kelljen neki megvalóítani a függvényt. Vizsgáld meg hogyan változik a tanítás a különböző paraméterek változtatásának hatására:\n",
        "\n",
        "*   Learning rate\n",
        "*   Adj hozzá véletlen zajt a kimenethez (mindkettőhöz, próbálj ki 2-3 különböző nagyságú zajt)\n",
        "*   A háló neuronszáma\n",
        "\n",
        "A beadandó pdf jegyzőkönyvben értékeld az egyes megoldások közti különbségeket!\n",
        "\n",
        "\n",
        "\n",
        "\n",
        "\n",
        "\n",
        "\n",
        "\n",
        "\n",
        "\n",
        "\n"
      ]
    },
    {
      "cell_type": "code",
      "metadata": {
        "id": "BtkNdA1oYm8f"
      },
      "source": [
        "Nin = 2\n",
        "Nout = 2\n",
        "  "
      ],
      "execution_count": null,
      "outputs": []
    }
  ]
}