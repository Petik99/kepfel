{
  "nbformat": 4,
  "nbformat_minor": 0,
  "metadata": {
    "colab": {
      "name": "Labor6_KF/IKM/GL_empty.ipynb",
      "provenance": [],
      "collapsed_sections": [],
      "include_colab_link": true
    },
    "kernelspec": {
      "name": "python3",
      "display_name": "Python 3"
    },
    "accelerator": "GPU",
    "gpuClass": "standard"
  },
  "cells": [
    {
      "cell_type": "markdown",
      "metadata": {
        "id": "view-in-github",
        "colab_type": "text"
      },
      "source": [
        "<a href=\"https://colab.research.google.com/github/Petik99/kepfel/blob/main/Labor6_KF_IKM_GL_empty.ipynb\" target=\"_parent\"><img src=\"https://colab.research.google.com/assets/colab-badge.svg\" alt=\"Open In Colab\"/></a>"
      ]
    },
    {
      "cell_type": "markdown",
      "metadata": {
        "id": "etxxqNjBvbYl"
      },
      "source": [
        "# Neurális hálók\n",
        "\n",
        "A mostani gyakorlat/labor témája egyszerű neurális hálók tanítása lesz a PyTorch függvénykönyvtár segítségével.\n",
        "\n",
        "## GPU és CUDA ellenőrzése\n",
        "\n",
        "A !nvcc --version parancs segítségével ellenőrizhető a CUDA verziója"
      ]
    },
    {
      "cell_type": "code",
      "metadata": {
        "id": "76--MCcVvY6b",
        "colab": {
          "base_uri": "https://localhost:8080/"
        },
        "outputId": "656e41fc-2d9f-406c-b6b5-e64855d84632"
      },
      "source": [
        "!nvcc --version"
      ],
      "execution_count": 2,
      "outputs": [
        {
          "output_type": "stream",
          "name": "stdout",
          "text": [
            "nvcc: NVIDIA (R) Cuda compiler driver\n",
            "Copyright (c) 2005-2021 NVIDIA Corporation\n",
            "Built on Sun_Feb_14_21:12:58_PST_2021\n",
            "Cuda compilation tools, release 11.2, V11.2.152\n",
            "Build cuda_11.2.r11.2/compiler.29618528_0\n"
          ]
        }
      ]
    },
    {
      "cell_type": "markdown",
      "metadata": {
        "id": "668tQrDqAoyU"
      },
      "source": [
        "## Fontos könyvtárak installálása\n",
        "\n",
        "Torch, torchvision"
      ]
    },
    {
      "cell_type": "code",
      "metadata": {
        "id": "5pQucnmFAxOK",
        "colab": {
          "base_uri": "https://localhost:8080/"
        },
        "outputId": "bfe79cec-3660-4d02-d54c-6abfb20a7767"
      },
      "source": [
        "!pip install torch torchvision"
      ],
      "execution_count": 3,
      "outputs": [
        {
          "output_type": "stream",
          "name": "stdout",
          "text": [
            "Looking in indexes: https://pypi.org/simple, https://us-python.pkg.dev/colab-wheels/public/simple/\n",
            "Requirement already satisfied: torch in /usr/local/lib/python3.7/dist-packages (1.12.1+cu113)\n",
            "Requirement already satisfied: torchvision in /usr/local/lib/python3.7/dist-packages (0.13.1+cu113)\n",
            "Requirement already satisfied: typing-extensions in /usr/local/lib/python3.7/dist-packages (from torch) (4.1.1)\n",
            "Requirement already satisfied: requests in /usr/local/lib/python3.7/dist-packages (from torchvision) (2.23.0)\n",
            "Requirement already satisfied: pillow!=8.3.*,>=5.3.0 in /usr/local/lib/python3.7/dist-packages (from torchvision) (7.1.2)\n",
            "Requirement already satisfied: numpy in /usr/local/lib/python3.7/dist-packages (from torchvision) (1.21.6)\n",
            "Requirement already satisfied: urllib3!=1.25.0,!=1.25.1,<1.26,>=1.21.1 in /usr/local/lib/python3.7/dist-packages (from requests->torchvision) (1.24.3)\n",
            "Requirement already satisfied: idna<3,>=2.5 in /usr/local/lib/python3.7/dist-packages (from requests->torchvision) (2.10)\n",
            "Requirement already satisfied: certifi>=2017.4.17 in /usr/local/lib/python3.7/dist-packages (from requests->torchvision) (2022.9.24)\n",
            "Requirement already satisfied: chardet<4,>=3.0.2 in /usr/local/lib/python3.7/dist-packages (from requests->torchvision) (3.0.4)\n"
          ]
        }
      ]
    },
    {
      "cell_type": "markdown",
      "metadata": {
        "id": "obfmfJQvA5h4"
      },
      "source": [
        "## PyTorch és CUDA ellenőrzése"
      ]
    },
    {
      "cell_type": "code",
      "metadata": {
        "id": "FKndwOLlA9yu",
        "colab": {
          "base_uri": "https://localhost:8080/"
        },
        "outputId": "64125b1b-7a54-4c95-dbb6-6a8631e54891"
      },
      "source": [
        "import torch\n",
        "print(torch.cuda.is_available())"
      ],
      "execution_count": 4,
      "outputs": [
        {
          "output_type": "stream",
          "name": "stdout",
          "text": [
            "True\n"
          ]
        }
      ]
    },
    {
      "cell_type": "markdown",
      "metadata": {
        "id": "U-jk8PrDFhDL"
      },
      "source": [
        "## Segédfüggvény, hogy legyen progress bar"
      ]
    },
    {
      "cell_type": "code",
      "metadata": {
        "id": "YyloyglTFhRu"
      },
      "source": [
        "from IPython.display import HTML, display\n",
        "\n",
        "def progress(value, max=100):\n",
        "    return HTML(\"\"\"\n",
        "        <progress\n",
        "            value='{value}'\n",
        "            max='{max}',\n",
        "            style='width: 100%'\n",
        "        >\n",
        "            {value}\n",
        "        </progress>\n",
        "    \"\"\".format(value=value, max=max))"
      ],
      "execution_count": null,
      "outputs": []
    },
    {
      "cell_type": "markdown",
      "metadata": {
        "id": "m1-kZ27PBWBu"
      },
      "source": [
        "## Számítási gráf numpy segítségével\n",
        "\n"
      ]
    },
    {
      "cell_type": "code",
      "metadata": {
        "id": "nAtQ25k2Bdpq",
        "colab": {
          "base_uri": "https://localhost:8080/"
        },
        "outputId": "bdb963db-bd1e-4f64-d6cf-ddb03edfb634"
      },
      "source": [
        "import numpy as np\n",
        "from numpy.random import randn\n",
        "\n",
        "np.random.seed(42)\n",
        "\n",
        "a = randn(2)\n",
        "b = randn(2)\n",
        "c = randn(2)\n",
        "\n",
        "d = 2*a + 0.5*b\n",
        "e = c*d\n",
        "f = np.sum(e)\n",
        "print(f)\n",
        "\n",
        "grad_fe = np.ones(2)\n",
        "grad_ec = grad_fe * d\n",
        "grad_ed = grad_fe*c\n",
        "grad_a = grad_ed*2\n",
        "grad_b = grad_ed*0.5\n",
        "\n",
        "print(grad_a)\n",
        "print(grad_b)\n",
        "print(grad_ec)"
      ],
      "execution_count": 5,
      "outputs": [
        {
          "output_type": "stream",
          "name": "stdout",
          "text": [
            "-0.42199704138300664\n",
            "[-0.46830675 -0.46827391]\n",
            "[-0.11707669 -0.11706848]\n",
            "[1.31727258 0.48498633]\n"
          ]
        }
      ]
    },
    {
      "cell_type": "markdown",
      "metadata": {
        "id": "tyeHyMEmCkdT"
      },
      "source": [
        "## Számítási gráf PyTorch segítségével"
      ]
    },
    {
      "cell_type": "code",
      "metadata": {
        "id": "aOVSPMjrCnrS",
        "colab": {
          "base_uri": "https://localhost:8080/"
        },
        "outputId": "6dfb5f29-0d9f-44cf-c33b-bf738bbfbc7f"
      },
      "source": [
        "import torch\n",
        "\n",
        "np.random.seed(42)\n",
        "torch.manual_seed(42)\n",
        "\n",
        "a = torch.tensor(randn(2), requires_grad=True)\n",
        "b = torch.tensor(randn(2), requires_grad=True)\n",
        "c = torch.tensor(randn(2), requires_grad=True)\n",
        "\n",
        "d = 2*a + 0.5*b\n",
        "e = c*d\n",
        "f = e.sum()\n",
        "print(f)\n",
        "\n",
        "f.backward()\n",
        "\n",
        "print(a.grad)\n",
        "print(b.grad)\n",
        "print(c.grad)"
      ],
      "execution_count": 6,
      "outputs": [
        {
          "output_type": "stream",
          "name": "stdout",
          "text": [
            "tensor(-0.4220, dtype=torch.float64, grad_fn=<SumBackward0>)\n",
            "tensor([-0.4683, -0.4683], dtype=torch.float64)\n",
            "tensor([-0.1171, -0.1171], dtype=torch.float64)\n",
            "tensor([1.3173, 0.4850], dtype=torch.float64)\n"
          ]
        }
      ]
    },
    {
      "cell_type": "markdown",
      "metadata": {
        "id": "icBWI28vEMnG"
      },
      "source": [
        "## Lineáris modell definiálása"
      ]
    },
    {
      "cell_type": "code",
      "metadata": {
        "id": "ezLFvS5-EaG7",
        "colab": {
          "base_uri": "https://localhost:8080/"
        },
        "outputId": "745b3a4d-e8fb-46d3-c91c-d7e0b8c449a1"
      },
      "source": [
        "from torch import nn\n",
        "\n",
        "class Linear(nn.Module):\n",
        "  def __init__(self, N_in, N_out):\n",
        "     super(Linear, self).__init__()\n",
        "\n",
        "     self.W = torch.randn((N_out, N_in), requires_grad=True)\n",
        "\n",
        "  def forward(self, input):\n",
        "    return torch.addmv(torch.zeros(2), self.W, input)\n",
        "\n",
        "torch.manual_seed(42)\n",
        "neuron = Linear(128, 2)\n",
        "x= torch.randn(128)\n",
        "y=neuron(x)\n",
        "print(y)"
      ],
      "execution_count": 9,
      "outputs": [
        {
          "output_type": "stream",
          "name": "stdout",
          "text": [
            "tensor([ -4.9931, -21.6903], grad_fn=<AddmvBackward0>)\n"
          ]
        }
      ]
    },
    {
      "cell_type": "markdown",
      "metadata": {
        "id": "W_hjFpBRKhr0"
      },
      "source": [
        "## Lineáris modell tanítása"
      ]
    },
    {
      "cell_type": "code",
      "metadata": {
        "id": "uH2JbTDcKkvd",
        "colab": {
          "base_uri": "https://localhost:8080/",
          "height": 317
        },
        "outputId": "8d6eff04-9c07-4b3a-f443-d124a1436300"
      },
      "source": [
        "%matplotlib inline\n",
        "import matplotlib.pyplot as plt\n",
        "\n",
        "torch.manual_seed(42)\n",
        "N_in = 128\n",
        "N_out = 2\n",
        "N_d = 128\n",
        "\n",
        "neuron = Linear(N_in, N_out)\n",
        "\n",
        "x_train = torch.randn(N_d, N_in)\n",
        "y_train = torch.randn(N_d, N_out)\n",
        "\n",
        "lr = 1e-3\n",
        "\n",
        "losses = []\n",
        "num_epochs=20\n",
        "\n",
        "for i in range(num_epochs):\n",
        "  running_loss = 0\n",
        "  for x, y in zip(x_train, y_train):\n",
        "    y_pred = neuron(x)\n",
        "    loss = ((y-y_pred)**2).sum() + 10*neuron.W.norm(2)\n",
        "    loss.backward()\n",
        "    with torch.no_grad():\n",
        "      neuron.W -= lr*neuron.W.grad\n",
        "      neuron.W.grad.zero_()\n",
        "    running_loss += loss.item()\n",
        "\n",
        "  losses.append(running_loss/N_d)\n",
        "\n",
        "print(neuron.W.norm(2))\n",
        "print(losses[0])\n",
        "print(losses[-1])\n",
        "\n",
        "plt.plot(losses); plt.show()"
      ],
      "execution_count": 11,
      "outputs": [
        {
          "output_type": "stream",
          "name": "stdout",
          "text": [
            "tensor(0.0729, grad_fn=<NormBackward1>)\n",
            "349.3480259180069\n",
            "2.490078654838726\n"
          ]
        },
        {
          "output_type": "display_data",
          "data": {
            "text/plain": [
              "<Figure size 432x288 with 1 Axes>"
            ],
            "image/png": "[encoded data removed]"
          },
          "metadata": {
            "needs_background": "light"
          }
        }
      ]
    },
    {
      "cell_type": "markdown",
      "metadata": {
        "id": "PPFDRxTCHucl"
      },
      "source": [
        "## Beépített függvények használata"
      ]
    },
    {
      "cell_type": "code",
      "metadata": {
        "id": "EqRJR4xLHtn_",
        "colab": {
          "base_uri": "https://localhost:8080/"
        },
        "outputId": "fe563aee-5b87-4d96-e54b-d4d874a278dc"
      },
      "source": [
        "class MLP(nn.Module):\n",
        "  def __init__(self, N_in, N_out, N_hidden):\n",
        "     super(MLP, self).__init__()\n",
        "     self.L1 = nn.Linear(N_in, N_hidden)\n",
        "     self.L2 = nn.Linear(N_hidden, N_out)\n",
        "  \n",
        "  def forward(self, input):\n",
        "    x = self.L1(input)\n",
        "    x = self.L1(x)\n",
        "    return x\n",
        "\n",
        "torch.manual_seed(42)\n",
        "\n",
        "net = MLP(128, 2, 128)\n",
        "x = torch.randn(128)\n",
        "y = net(x)\n",
        "print(y)"
      ],
      "execution_count": 12,
      "outputs": [
        {
          "output_type": "stream",
          "name": "stdout",
          "text": [
            "tensor([-0.3434, -0.1750, -0.3334,  0.1005,  0.2382, -0.0517, -0.1288,  0.4264,\n",
            "        -0.2938, -0.2898, -0.0263,  0.2159,  0.0362, -0.3538,  0.1721, -0.1598,\n",
            "         0.2371,  0.6529,  0.6081, -0.0104, -0.0103, -0.5873,  0.2122, -0.5158,\n",
            "         0.3484, -0.0072,  0.0339, -0.5651,  0.2976, -0.0178,  0.0189, -0.2155,\n",
            "        -0.5944,  0.4357, -0.6835,  0.2577,  0.2862, -0.6443, -0.7891,  0.4115,\n",
            "         0.3357, -0.1703, -0.6173, -0.5341, -0.3785, -0.4082,  1.1818,  0.2254,\n",
            "         0.1809, -0.7046, -0.3006, -0.5170, -0.1300,  0.1496, -0.8025, -0.1881,\n",
            "        -0.2431,  0.6869,  0.3218,  0.0607,  0.5865, -0.1196,  0.2888,  0.3073,\n",
            "        -0.5375, -0.2395, -0.3598,  0.7544, -0.1535, -0.3439, -0.6296, -0.4612,\n",
            "        -0.0754, -0.2221, -0.0753,  0.3647, -0.3783,  0.6911,  0.5373,  0.7925,\n",
            "        -0.8235,  0.1133,  0.6510,  0.3704, -0.2226, -0.1304,  0.2012,  0.9008,\n",
            "         0.4571,  0.0251, -0.5852,  0.7551,  0.1819,  0.2270, -0.6323,  0.5838,\n",
            "         0.2179,  0.2643,  0.0070,  0.1863, -0.0320,  0.3642, -0.6890,  0.0036,\n",
            "         0.1579,  0.5850, -0.2212, -0.4093,  0.3285,  0.2984,  0.1160,  0.1027,\n",
            "        -0.0998, -0.4452,  0.1748, -0.0181,  0.4005, -0.2510, -0.8113, -0.4506,\n",
            "        -0.1212,  0.3108,  0.2962,  0.3153,  0.1129,  0.5681, -0.6496,  0.1534],\n",
            "       grad_fn=<AddBackward0>)\n"
          ]
        }
      ]
    },
    {
      "cell_type": "markdown",
      "metadata": {
        "id": "Td3nntqTQ_kK"
      },
      "source": [
        "## Tanítás beépített függvényekkel"
      ]
    },
    {
      "cell_type": "code",
      "metadata": {
        "id": "xOpVRTbbREb9",
        "colab": {
          "base_uri": "https://localhost:8080/",
          "height": 380
        },
        "outputId": "6a29d62f-96d5-4bb6-866f-f5b37c191b38"
      },
      "source": [
        "from torch.utils.data import TensorDataset, DataLoader\n",
        "import torch.optim as optim\n",
        "\n",
        "N_hidden = 256\n",
        "\n",
        "dataset = TensorDataset(x_train, y_train)\n",
        "dataloader = DataLoader(dataset, batch_size=4)\n",
        "\n",
        "net = MLP(128, 2, N_hidden)\n",
        "\n",
        "optimiser = optim.SGD(net.parameters(), lr=1e-2, weight_decay = 1e-5)\n",
        "loss_fn = nn.MSELoss()\n",
        "\n",
        "losses = []\n",
        "num_epochs=1000\n",
        "best_loss = 10000\n",
        "\n",
        "for i in range(num_epochs):\n",
        "  running_loss = 0\n",
        "  #for batch(x, y) in enumerate(dataloader):\n",
        "  for x, y in dataloader:\n",
        "    optimiser.zero_grad()\n",
        "    y_pred = net(x)\n",
        "    loss = loss_fn(y, y_pred)\n",
        "    running_loss += loss.item()\n",
        "\n",
        "  running_loss /= len(dataloader)\n",
        "  losses.append(running_loss)\n",
        "  if(running_loss<best_loss):\n",
        "    best_loss = running_loss\n",
        "    torch.save(net.state_dict, \"best_network.pth\")\n",
        "\n",
        "print(best_loss)\n",
        "\n",
        "plt.plot(losses); plt.show()"
      ],
      "execution_count": 13,
      "outputs": [
        {
          "output_type": "error",
          "ename": "RuntimeError",
          "evalue": "ignored",
          "traceback": [
            "\u001b[0;31m---------------------------------------------------------------------------\u001b[0m",
            "\u001b[0;31mRuntimeError\u001b[0m                              Traceback (most recent call last)",
            "\u001b[0;32m<ipython-input-13-b5ebf9e811de>\u001b[0m in \u001b[0;36m<module>\u001b[0;34m\u001b[0m\n\u001b[1;32m     21\u001b[0m   \u001b[0;32mfor\u001b[0m \u001b[0mx\u001b[0m\u001b[0;34m,\u001b[0m \u001b[0my\u001b[0m \u001b[0;32min\u001b[0m \u001b[0mdataloader\u001b[0m\u001b[0;34m:\u001b[0m\u001b[0;34m\u001b[0m\u001b[0;34m\u001b[0m\u001b[0m\n\u001b[1;32m     22\u001b[0m     \u001b[0moptimiser\u001b[0m\u001b[0;34m.\u001b[0m\u001b[0mzero_grad\u001b[0m\u001b[0;34m(\u001b[0m\u001b[0;34m)\u001b[0m\u001b[0;34m\u001b[0m\u001b[0;34m\u001b[0m\u001b[0m\n\u001b[0;32m---> 23\u001b[0;31m     \u001b[0my_pred\u001b[0m \u001b[0;34m=\u001b[0m \u001b[0mnet\u001b[0m\u001b[0;34m(\u001b[0m\u001b[0mx\u001b[0m\u001b[0;34m)\u001b[0m\u001b[0;34m\u001b[0m\u001b[0;34m\u001b[0m\u001b[0m\n\u001b[0m\u001b[1;32m     24\u001b[0m     \u001b[0mloss\u001b[0m \u001b[0;34m=\u001b[0m \u001b[0mloss_fn\u001b[0m\u001b[0;34m(\u001b[0m\u001b[0my\u001b[0m\u001b[0;34m,\u001b[0m \u001b[0my_pred\u001b[0m\u001b[0;34m)\u001b[0m\u001b[0;34m\u001b[0m\u001b[0;34m\u001b[0m\u001b[0m\n\u001b[1;32m     25\u001b[0m     \u001b[0mrunning_loss\u001b[0m \u001b[0;34m+=\u001b[0m \u001b[0mloss\u001b[0m\u001b[0;34m.\u001b[0m\u001b[0mitem\u001b[0m\u001b[0;34m(\u001b[0m\u001b[0;34m)\u001b[0m\u001b[0;34m\u001b[0m\u001b[0;34m\u001b[0m\u001b[0m\n",
            "\u001b[0;32m/usr/local/lib/python3.7/dist-packages/torch/nn/modules/module.py\u001b[0m in \u001b[0;36m_call_impl\u001b[0;34m(self, *input, **kwargs)\u001b[0m\n\u001b[1;32m   1128\u001b[0m         if not (self._backward_hooks or self._forward_hooks or self._forward_pre_hooks or _global_backward_hooks\n\u001b[1;32m   1129\u001b[0m                 or _global_forward_hooks or _global_forward_pre_hooks):\n\u001b[0;32m-> 1130\u001b[0;31m             \u001b[0;32mreturn\u001b[0m \u001b[0mforward_call\u001b[0m\u001b[0;34m(\u001b[0m\u001b[0;34m*\u001b[0m\u001b[0minput\u001b[0m\u001b[0;34m,\u001b[0m \u001b[0;34m**\u001b[0m\u001b[0mkwargs\u001b[0m\u001b[0;34m)\u001b[0m\u001b[0;34m\u001b[0m\u001b[0;34m\u001b[0m\u001b[0m\n\u001b[0m\u001b[1;32m   1131\u001b[0m         \u001b[0;31m# Do not call functions when jit is used\u001b[0m\u001b[0;34m\u001b[0m\u001b[0;34m\u001b[0m\u001b[0;34m\u001b[0m\u001b[0m\n\u001b[1;32m   1132\u001b[0m         \u001b[0mfull_backward_hooks\u001b[0m\u001b[0;34m,\u001b[0m \u001b[0mnon_full_backward_hooks\u001b[0m \u001b[0;34m=\u001b[0m \u001b[0;34m[\u001b[0m\u001b[0;34m]\u001b[0m\u001b[0;34m,\u001b[0m \u001b[0;34m[\u001b[0m\u001b[0;34m]\u001b[0m\u001b[0;34m\u001b[0m\u001b[0;34m\u001b[0m\u001b[0m\n",
            "\u001b[0;32m<ipython-input-12-1e072d53e2fe>\u001b[0m in \u001b[0;36mforward\u001b[0;34m(self, input)\u001b[0m\n\u001b[1;32m      7\u001b[0m   \u001b[0;32mdef\u001b[0m \u001b[0mforward\u001b[0m\u001b[0;34m(\u001b[0m\u001b[0mself\u001b[0m\u001b[0;34m,\u001b[0m \u001b[0minput\u001b[0m\u001b[0;34m)\u001b[0m\u001b[0;34m:\u001b[0m\u001b[0;34m\u001b[0m\u001b[0;34m\u001b[0m\u001b[0m\n\u001b[1;32m      8\u001b[0m     \u001b[0mx\u001b[0m \u001b[0;34m=\u001b[0m \u001b[0mself\u001b[0m\u001b[0;34m.\u001b[0m\u001b[0mL1\u001b[0m\u001b[0;34m(\u001b[0m\u001b[0minput\u001b[0m\u001b[0;34m)\u001b[0m\u001b[0;34m\u001b[0m\u001b[0;34m\u001b[0m\u001b[0m\n\u001b[0;32m----> 9\u001b[0;31m     \u001b[0mx\u001b[0m \u001b[0;34m=\u001b[0m \u001b[0mself\u001b[0m\u001b[0;34m.\u001b[0m\u001b[0mL1\u001b[0m\u001b[0;34m(\u001b[0m\u001b[0mx\u001b[0m\u001b[0;34m)\u001b[0m\u001b[0;34m\u001b[0m\u001b[0;34m\u001b[0m\u001b[0m\n\u001b[0m\u001b[1;32m     10\u001b[0m     \u001b[0;32mreturn\u001b[0m \u001b[0mx\u001b[0m\u001b[0;34m\u001b[0m\u001b[0;34m\u001b[0m\u001b[0m\n\u001b[1;32m     11\u001b[0m \u001b[0;34m\u001b[0m\u001b[0m\n",
            "\u001b[0;32m/usr/local/lib/python3.7/dist-packages/torch/nn/modules/module.py\u001b[0m in \u001b[0;36m_call_impl\u001b[0;34m(self, *input, **kwargs)\u001b[0m\n\u001b[1;32m   1128\u001b[0m         if not (self._backward_hooks or self._forward_hooks or self._forward_pre_hooks or _global_backward_hooks\n\u001b[1;32m   1129\u001b[0m                 or _global_forward_hooks or _global_forward_pre_hooks):\n\u001b[0;32m-> 1130\u001b[0;31m             \u001b[0;32mreturn\u001b[0m \u001b[0mforward_call\u001b[0m\u001b[0;34m(\u001b[0m\u001b[0;34m*\u001b[0m\u001b[0minput\u001b[0m\u001b[0;34m,\u001b[0m \u001b[0;34m**\u001b[0m\u001b[0mkwargs\u001b[0m\u001b[0;34m)\u001b[0m\u001b[0;34m\u001b[0m\u001b[0;34m\u001b[0m\u001b[0m\n\u001b[0m\u001b[1;32m   1131\u001b[0m         \u001b[0;31m# Do not call functions when jit is used\u001b[0m\u001b[0;34m\u001b[0m\u001b[0;34m\u001b[0m\u001b[0;34m\u001b[0m\u001b[0m\n\u001b[1;32m   1132\u001b[0m         \u001b[0mfull_backward_hooks\u001b[0m\u001b[0;34m,\u001b[0m \u001b[0mnon_full_backward_hooks\u001b[0m \u001b[0;34m=\u001b[0m \u001b[0;34m[\u001b[0m\u001b[0;34m]\u001b[0m\u001b[0;34m,\u001b[0m \u001b[0;34m[\u001b[0m\u001b[0;34m]\u001b[0m\u001b[0;34m\u001b[0m\u001b[0;34m\u001b[0m\u001b[0m\n",
            "\u001b[0;32m/usr/local/lib/python3.7/dist-packages/torch/nn/modules/linear.py\u001b[0m in \u001b[0;36mforward\u001b[0;34m(self, input)\u001b[0m\n\u001b[1;32m    112\u001b[0m \u001b[0;34m\u001b[0m\u001b[0m\n\u001b[1;32m    113\u001b[0m     \u001b[0;32mdef\u001b[0m \u001b[0mforward\u001b[0m\u001b[0;34m(\u001b[0m\u001b[0mself\u001b[0m\u001b[0;34m,\u001b[0m \u001b[0minput\u001b[0m\u001b[0;34m:\u001b[0m \u001b[0mTensor\u001b[0m\u001b[0;34m)\u001b[0m \u001b[0;34m->\u001b[0m \u001b[0mTensor\u001b[0m\u001b[0;34m:\u001b[0m\u001b[0;34m\u001b[0m\u001b[0;34m\u001b[0m\u001b[0m\n\u001b[0;32m--> 114\u001b[0;31m         \u001b[0;32mreturn\u001b[0m \u001b[0mF\u001b[0m\u001b[0;34m.\u001b[0m\u001b[0mlinear\u001b[0m\u001b[0;34m(\u001b[0m\u001b[0minput\u001b[0m\u001b[0;34m,\u001b[0m \u001b[0mself\u001b[0m\u001b[0;34m.\u001b[0m\u001b[0mweight\u001b[0m\u001b[0;34m,\u001b[0m \u001b[0mself\u001b[0m\u001b[0;34m.\u001b[0m\u001b[0mbias\u001b[0m\u001b[0;34m)\u001b[0m\u001b[0;34m\u001b[0m\u001b[0;34m\u001b[0m\u001b[0m\n\u001b[0m\u001b[1;32m    115\u001b[0m \u001b[0;34m\u001b[0m\u001b[0m\n\u001b[1;32m    116\u001b[0m     \u001b[0;32mdef\u001b[0m \u001b[0mextra_repr\u001b[0m\u001b[0;34m(\u001b[0m\u001b[0mself\u001b[0m\u001b[0;34m)\u001b[0m \u001b[0;34m->\u001b[0m \u001b[0mstr\u001b[0m\u001b[0;34m:\u001b[0m\u001b[0;34m\u001b[0m\u001b[0;34m\u001b[0m\u001b[0m\n",
            "\u001b[0;31mRuntimeError\u001b[0m: mat1 and mat2 shapes cannot be multiplied (4x256 and 128x256)"
          ]
        }
      ]
    },
    {
      "cell_type": "markdown",
      "metadata": {
        "id": "SCqchuQyWHMl"
      },
      "source": [
        "## Tanítás CUDA segítségével"
      ]
    },
    {
      "cell_type": "code",
      "metadata": {
        "id": "T5imI0lgWNtp"
      },
      "source": [],
      "execution_count": null,
      "outputs": []
    },
    {
      "cell_type": "markdown",
      "metadata": {
        "id": "0M2I4pr6ewTB"
      },
      "source": [
        "## Validáció"
      ]
    },
    {
      "cell_type": "code",
      "metadata": {
        "id": "iZOE9fKnexe6"
      },
      "source": [],
      "execution_count": null,
      "outputs": []
    },
    {
      "cell_type": "markdown",
      "metadata": {
        "id": "RVlB0bPfZ_O1"
      },
      "source": [
        "## Önálló feladat: Értelmes adat tanítása\n",
        "\n",
        "Próbáld meg az y = x^3 függvényt betanítani a hálónak! A hálónak legyen 3 be és 3 kimenete, ezek között kelljen neki megvalóítani a függvényt. Vizsgáld meg hogyan változik a tanítás a különböző paraméterek változtatásának hatására:\n",
        "\n",
        "*   Learning rate\n",
        "*   Adj hozzá véletlen zajt a kimenethez (mindkettőhöz, próbálj ki 2-3 különböző nagyságú zajt)\n",
        "*   A háló neuronszáma\n",
        "\n",
        "A beadandó pdf jegyzőkönyvben értékeld az egyes megoldások közti különbségeket!\n",
        "\n",
        "\n",
        "\n",
        "\n",
        "\n",
        "\n",
        "\n",
        "\n",
        "\n",
        "\n",
        "\n"
      ]
    },
    {
      "cell_type": "code",
      "metadata": {
        "id": "BtkNdA1oYm8f"
      },
      "source": [
        "Nin = 2\n",
        "Nout = 2\n",
        "  "
      ],
      "execution_count": null,
      "outputs": []
    }
  ]
}